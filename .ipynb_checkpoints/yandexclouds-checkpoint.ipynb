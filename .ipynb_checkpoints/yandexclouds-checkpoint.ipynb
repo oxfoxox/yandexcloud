{
 "cells": [
  {
   "cell_type": "code",
   "execution_count": 1,
   "id": "440dff79",
   "metadata": {},
   "outputs": [],
   "source": [
    "import boto3\n",
    "import datetime\n",
    "import json\n",
    "import ast\n",
    "import time"
   ]
  },
  {
   "cell_type": "code",
   "execution_count": 2,
   "id": "4cda6f15",
   "metadata": {},
   "outputs": [],
   "source": [
    "from func import *\n",
    "from creds import *"
   ]
  },
  {
   "cell_type": "code",
   "execution_count": 3,
   "id": "778f2a59",
   "metadata": {},
   "outputs": [],
   "source": [
    "path = '/Users/oksanasyceva/Downloads/'\n",
    "file_name = 'vectors_news_habr.json'\n",
    "path_and_file_name= path+file_name\n",
    "\n",
    "file_for_test = '/Users/oksanasyceva/Downloads/new_file.json'\n",
    "\n",
    "bucket = 'kmtestbucket'\n",
    "updated_bucket = 'updatedkmtestbucket'"
   ]
  },
  {
   "cell_type": "code",
   "execution_count": 4,
   "id": "15af1b0b",
   "metadata": {},
   "outputs": [],
   "source": [
    "session = boto3.session.Session()\n",
    "s3 = session.client(\n",
    "    aws_access_key_id=AWS_ACCESS_KEY_ID,\n",
    "    aws_secret_access_key=AWS_SECRET_ACCESS_KEY,\n",
    "    service_name=SERVICE_NAME,\n",
    "    endpoint_url=ENDPOINT_URL\n",
    ")"
   ]
  },
  {
   "cell_type": "code",
   "execution_count": 5,
   "id": "ccfa93e3",
   "metadata": {},
   "outputs": [],
   "source": [
    "#основная часть работы\n",
    "def infinity_request():\n",
    "    print('START')\n",
    "    print(datetime.datetime.now(),'pre step')\n",
    "\n",
    "    uploaded_path_and_file_name, uploaded_bucket = upload_new_file(path_and_file_name, bucket, s3)\n",
    "    print(datetime.datetime.now(), 'after upload time')\n",
    "\n",
    "    downloaded_file_data = get_object(file_name, uploaded_bucket, s3)\n",
    "    #из bytes превращаем в словарь, чтобы дальше с ним работать\n",
    "    normal_downloaded_file_data = ast.literal_eval(downloaded_file_data.decode('utf-8')) \n",
    "    print(datetime.datetime.now(), 'after download time')\n",
    "\n",
    "    changed_file, new_file_name = change_object(normal_downloaded_file_data, file_name)\n",
    "    print(datetime.datetime.now(), 'after change time')\n",
    "\n",
    "    new_file_in_yandex = upload_data(updated_bucket, key=new_file_name, body = changed_file, s3=s3)\n",
    "    print(datetime.datetime.now(), 'after new upload time')\n",
    "    print('END')"
   ]
  },
  {
   "cell_type": "code",
   "execution_count": 6,
   "id": "41fe8c3c",
   "metadata": {},
   "outputs": [
    {
     "name": "stdout",
     "output_type": "stream",
     "text": [
      "START\n",
      "2022-11-01 23:45:47.024472 pre step\n"
     ]
    },
    {
     "name": "stderr",
     "output_type": "stream",
     "text": [
      "\n",
      "KeyboardInterrupt\n",
      "\n"
     ]
    }
   ],
   "source": [
    "c = 0\n",
    "while True:\n",
    "    infinity_request()\n",
    "    time.sleep(86400)\n",
    "    if c == 2:\n",
    "        break\n",
    "    c += 1"
   ]
  },
  {
   "cell_type": "code",
   "execution_count": null,
   "id": "22872b33",
   "metadata": {},
   "outputs": [],
   "source": []
  }
 ],
 "metadata": {
  "kernelspec": {
   "display_name": "Python 3 (ipykernel)",
   "language": "python",
   "name": "python3"
  },
  "language_info": {
   "codemirror_mode": {
    "name": "ipython",
    "version": 3
   },
   "file_extension": ".py",
   "mimetype": "text/x-python",
   "name": "python",
   "nbconvert_exporter": "python",
   "pygments_lexer": "ipython3",
   "version": "3.10.6"
  }
 },
 "nbformat": 4,
 "nbformat_minor": 5
}

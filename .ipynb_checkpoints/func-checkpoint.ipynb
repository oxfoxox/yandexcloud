{
 "cells": [
  {
   "cell_type": "code",
   "execution_count": 1,
   "id": "233268a4",
   "metadata": {},
   "outputs": [],
   "source": [
    "import logging\n",
    "import boto3\n",
    "from botocore.exceptions import ClientError\n",
    "import os\n",
    "import datetime\n",
    "import json"
   ]
  },
  {
   "cell_type": "code",
   "execution_count": 2,
   "id": "c84e2a94",
   "metadata": {},
   "outputs": [],
   "source": [
    "def upload_new_file(path_and_file_name, bucket, s3, object_name=None):\n",
    "    \"\"\"Upload a file to an S3 bucket\n",
    "\n",
    "    :param file_name: File to upload\n",
    "    :param bucket: Bucket to upload to\n",
    "    :param object_name: S3 object name. If not specified then file_name is used\n",
    "    :return: True if file was uploaded, else False\n",
    "    \"\"\"\n",
    "\n",
    "    # If S3 object_name was not specified, use file_name\n",
    "    if object_name is None:\n",
    "        object_name = os.path.basename(path_and_file_name)\n",
    "\n",
    "    # Upload the file\n",
    "    s3_client = boto3.client('s3')\n",
    "    try:\n",
    "        response = s3.upload_file(path_and_file_name, bucket, object_name) \n",
    "        print('File was uploaded')\n",
    "    except ClientError as e:\n",
    "        logging.error(e)\n",
    "        return False\n",
    "    return path_and_file_name, bucket"
   ]
  },
  {
   "cell_type": "code",
   "execution_count": 3,
   "id": "db891175",
   "metadata": {},
   "outputs": [],
   "source": [
    "def get_object_list(bucket, s3):\n",
    "    objects = []\n",
    "    try:\n",
    "        for key in s3.list_objects(Bucket=bucket)['Contents']:\n",
    "            objects.append(key['Key'])\n",
    "    except Exception as e: \n",
    "        print(e)\n",
    "        return False\n",
    "    return objects"
   ]
  },
  {
   "cell_type": "code",
   "execution_count": 4,
   "id": "d76f4e28",
   "metadata": {},
   "outputs": [],
   "source": [
    "# Удалить несколько объектов\n",
    "# НЕ возвращает ошибку, если попытаться удалить несуществующий файл\n",
    "def delete_object(object_name, bucket, s3):\n",
    "    try:\n",
    "        forDeletion = [{'Key':object_name}]\n",
    "        response = s3.delete_objects(Bucket=bucket, Delete={'Objects': forDeletion})\n",
    "        print('File was deleted')\n",
    "    except Exception as e: \n",
    "        print(e)\n",
    "        return False\n",
    "    return object_name\n",
    "#delete_object(bucket,'folder1/')"
   ]
  },
  {
   "cell_type": "code",
   "execution_count": 5,
   "id": "aadf3dd9",
   "metadata": {},
   "outputs": [],
   "source": [
    "# Получить объект (покажет данные внутри объекта)\n",
    "def get_object(object_name, bucket, s3):\n",
    "    object_data = ''\n",
    "    try:\n",
    "        get_object_response = s3.get_object(Bucket=bucket,Key=object_name)\n",
    "        object_data = get_object_response['Body'].read()\n",
    "        print('File was downloaded')\n",
    "    except Exception as e: \n",
    "        print(e)\n",
    "        return False\n",
    "    return object_data"
   ]
  },
  {
   "cell_type": "code",
   "execution_count": 6,
   "id": "6416b6f5",
   "metadata": {},
   "outputs": [],
   "source": [
    "# Изменить объект\n",
    "def change_object(file, file_name):\n",
    "    try:\n",
    "        changed_file = {\"test\" : 'try_new_title'}\n",
    "        new_file_name = str(datetime.datetime.now())+ ' ' +file_name\n",
    "        print('Changes have been made')\n",
    "    except Exception as e: \n",
    "        print(e)\n",
    "        return False\n",
    "    return changed_file, new_file_name"
   ]
  },
  {
   "cell_type": "code",
   "execution_count": 7,
   "id": "0428f467",
   "metadata": {},
   "outputs": [],
   "source": [
    "#загрузить \n",
    "def upload_data(bucket, key, body,s3,storageclass='STANDARD'):\n",
    "    \"\"\"bucket - бакет, куда грузим\n",
    "    key - как файл будет называться\n",
    "    body - что за строку грузим\n",
    "    StorageClass - класс хранения:\n",
    "                Стандартное хранилище — STANDARD.\n",
    "                Холодное хранилище — COLD, STANDARD_IA или NEARLINE (последние два — только при загрузке объектов в бакет).\n",
    "                Ледяное хранилище — ICE, GLACIER (последний — только при загрузке объектов в бакет).\n",
    "    \"\"\"\n",
    "    try:\n",
    "        new_body = json.dumps(body, indent=2).encode('utf-8')\n",
    "        s3.put_object(Bucket=bucket, Key=key, Body=new_body, StorageClass=storageclass)\n",
    "        print('Data was uploaded')\n",
    "    except Exception as e: \n",
    "        print(e)\n",
    "        return False"
   ]
  }
 ],
 "metadata": {
  "kernelspec": {
   "display_name": "Python 3 (ipykernel)",
   "language": "python",
   "name": "python3"
  },
  "language_info": {
   "codemirror_mode": {
    "name": "ipython",
    "version": 3
   },
   "file_extension": ".py",
   "mimetype": "text/x-python",
   "name": "python",
   "nbconvert_exporter": "python",
   "pygments_lexer": "ipython3",
   "version": "3.10.6"
  }
 },
 "nbformat": 4,
 "nbformat_minor": 5
}
